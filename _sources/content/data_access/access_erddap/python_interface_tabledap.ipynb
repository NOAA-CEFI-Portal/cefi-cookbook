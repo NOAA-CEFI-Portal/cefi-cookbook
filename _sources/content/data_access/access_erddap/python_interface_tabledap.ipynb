{
 "cells": [
  {
   "cell_type": "markdown",
   "id": "8d0f64aa",
   "metadata": {},
   "source": [
    "Accessing table (spreadsheet) data\n",
    "===\n",
    "\n",
    "## Packages used\n",
    "To use python to access the ERDDAP server directly from your python script or jupyter-notebook, you will need\n",
    "- ERDDAPY\n",
    "- Xarray\n",
    "- netcdf4 \n",
    "- matplotlib\n",
    "- folium\n",
    "\n",
    "```{note}\n",
    "The package [**netcdf4**](http://unidata.github.io/netcdf4-python/) develop by UNIDATA is not needed in the import part of the python script. However, it is the essential package that [support netCDF format output from Xarray](https://docs.xarray.dev/en/stable/user-guide/io.html). The package [**matplotlib**](https://matplotlib.org/stable/) is also not needed in the import part of the python script. It is the essential package that [support quick visualization from Xarray](https://docs.xarray.dev/en/stable/user-guide/plotting.html). \n",
    "```"
   ]
  },
  {
   "cell_type": "markdown",
   "id": "ef29417b",
   "metadata": {},
   "source": [
    "In this page, we demonstrate how to extract/download data directly from a ERDDAP server and perform data processing, visualization, and export data in python environment. \n",
    "\n",
    "```{tip}\n",
    "[Understanding of the ERDDAP server and what it provides](erddapData) is highly recommended before reading the following intructions.\n",
    "```\n",
    "\n",
    "## Import python packages"
   ]
  },
  {
   "cell_type": "code",
   "execution_count": null,
   "id": "59b0571b",
   "metadata": {},
   "outputs": [],
   "source": [
    "import xarray as xr\n",
    "from erddapy import ERDDAP"
   ]
  },
  {
   "cell_type": "markdown",
   "id": "605e03cf",
   "metadata": {},
   "source": [
    "- [**xarray**](https://docs.xarray.dev/en/stable/getting-started-guide/why-xarray.html) is used for data processing and netCDF file output. \n",
    "- [**erddapy**](https://ioos.github.io/erddapy/00-quick_intro-output.html) is used to access the ERDDAP server.\n",
    "\n",
    "Both package-webpages have more detail explanation on its full range of functionalities. \n",
    "Here we will mainly focusing on getting the data to be displayer and downloaded.\n",
    "\n",
    "\n",
    "## Access TableDAP type data\n",
    "In this demostration, we will be getting the table data of CPS Trawl Life History Haul Catch Data from [NOAA NMFS ERDDAP server](https://coastwatch.pfeg.noaa.gov/erddap/tabledap/FRDCPSTrawlLHHaulCatch.html)\n",
    "\n",
    "Firstly, the way to use the **erddapy** is to setup the destination ERDDAP server as an object in python through `ERDDAP` ([a python class](https://docs.python.org/3/tutorial/classes.html))"
   ]
  },
  {
   "cell_type": "code",
   "execution_count": null,
   "id": "e4c72313",
   "metadata": {},
   "outputs": [],
   "source": [
    "#### access the ERDDAP server\n",
    "e = ERDDAP(\n",
    "    server=\"https://coastwatch.pfeg.noaa.gov/erddap/\",    # The URL that the ERDDAP server has\n",
    "    protocol=\"tabledap\",                                   # The data type (griddap or tabledap)\n",
    "    response=\"opendap\",                                   # different output data type that provided by ERDDAP server       \n",
    ")"
   ]
  },
  {
   "cell_type": "markdown",
   "id": "1a101e6a",
   "metadata": {},
   "source": [
    "```{note}\n",
    "Like the comment in the code above, three most important keyword arguments ([kwarg](https://docs.python.org/3/glossary.html#term-argument)) to set for the `ERDDAP` class are `server` (The URL that the ERDDAP server is located which has the form of `\"https://.../erddap/\"`), `protocol` (The [data type](erddapData) one want to get. It is either `\"tabledap\"` or `\"griddap\"`), and `response` (For most general use, set the kwarg as `\"opendap\"` to request the data through OPeNDAP Data Access Protocol (DAP) and its projection constraints).\n",
    "```\n",
    "By executing the above code block, we have already setup the connection with the desired ERDDAP server. \n",
    "To request a specific dataset on the server, we need to know the `dataset_id`.\n",
    "The fastest way to get the dataset ID is to go into the data page (e.g. https://coastwatch.pfeg.noaa.gov/erddap/tabledap/FRDCPSTrawlLHHaulCatch.html).\n",
    "The dataset ID is shown on the second line right after institution. \n",
    "```{tip}\n",
    "One can also get the dataset ID directly from the URL shown above (e.g. https://.../**FRDCPSTrawlLHHaulCatch**.html).\n",
    "```\n",
    "To set the `dataset_id`, execute"
   ]
  },
  {
   "cell_type": "code",
   "execution_count": null,
   "id": "80513f52",
   "metadata": {},
   "outputs": [],
   "source": [
    "# set the dataset id name \n",
    "#  ex:  https://coastwatch.pfeg.noaa.gov/erddap/griddap/jplAquariusSSS3MonthV5.html\n",
    "#  dataset_id = jplAquariusSSS3MonthV5\n",
    "e.dataset_id = \"FRDCPSTrawlLHHaulCatch\""
   ]
  },
  {
   "cell_type": "markdown",
   "id": "961ccb96",
   "metadata": {},
   "source": [
    "## Download data \n",
    "Now, all the setting for downloading the data is complete for this simple example.\n",
    "All we need to do is to fetch the data from the server to local machine memory.\n",
    "`erddapy` has a widely used Xarray backend to support export to xarray object. \n",
    "Simply execute"
   ]
  },
  {
   "cell_type": "code",
   "execution_count": null,
   "id": "28ddcc4c",
   "metadata": {},
   "outputs": [],
   "source": [
    "df = e.to_pandas()\n",
    "ds = df.to_xarray()"
   ]
  },
  {
   "cell_type": "markdown",
   "id": "d5e88c81",
   "metadata": {},
   "source": [
    "The two steps approach to convert the Pandas dataframe to Xarray Dataset is to utilize the xarray method in the following.\n",
    "If user is more familiar with the Pandas method, the first line of code is enought to extract the data to the local machine. \n",
    "The `ds` object constructed by Xarray is a great way to see the data structure and perform quick visualization, preprocessing, and exporting to netCDF format."
   ]
  },
  {
   "cell_type": "code",
   "execution_count": null,
   "id": "64d9adfd",
   "metadata": {},
   "outputs": [],
   "source": [
    "ds"
   ]
  },
  {
   "cell_type": "markdown",
   "id": "938e9d92",
   "metadata": {},
   "source": [
    "jupyter output cell above shows the coordinates, variables, and related attributes of the datasets and variables. \n",
    "\n",
    "\n",
    "## Visualize data \n",
    "To quickly visualize the different variables (with the help of the installed matplotlib package not imported but supporting the plot method in Xarray),"
   ]
  },
  {
   "cell_type": "code",
   "execution_count": null,
   "id": "7f0e3d14",
   "metadata": {},
   "outputs": [],
   "source": [
    "import numpy as np\n",
    "cruises = np.unique(ds.cruise.data)"
   ]
  },
  {
   "cell_type": "code",
   "execution_count": null,
   "id": "0d88ecf2",
   "metadata": {},
   "outputs": [],
   "source": [
    "cruises"
   ]
  },
  {
   "cell_type": "code",
   "execution_count": null,
   "id": "71230283",
   "metadata": {},
   "outputs": [],
   "source": [
    "import matplotlib.pyplot as plt\n",
    "\n",
    "for cruise in cruises:\n",
    "    yy = ds.where(ds.cruise == cruise,drop=True).stop_latitude.data\n",
    "    xx = ds.where(ds.cruise == cruise,drop=True).stop_longitude.data\n",
    "    plt.plot(xx,yy,'o',markersize=1)\n",
    "    "
   ]
  },
  {
   "cell_type": "code",
   "execution_count": null,
   "id": "ace202d2",
   "metadata": {},
   "outputs": [],
   "source": [
    "import folium\n",
    "from folium import plugins\n",
    "\n",
    "ds.stop_latitude.min().data\n",
    "\n",
    "lon = (ds.stop_longitude.min().data + ds.stop_longitude.max().data) / 2\n",
    "lat = (ds.stop_latitude.min().data + ds.stop_latitude.max().data) / 2\n",
    "\n",
    "fmap = folium.Map(location=[lat, lon], tiles=\"OpenStreetMap\", zoom_start=4)\n",
    "marker_cluster = plugins.MarkerCluster().add_to(fmap)\n",
    "\n",
    "for cruise in cruises:\n",
    "    yy = ds.where(ds.cruise == cruise,drop=True).stop_latitude.data\n",
    "    xx = ds.where(ds.cruise == cruise,drop=True).stop_longitude.data\n",
    "    for point in range(0, len(yy)):\n",
    "        folium.Marker([yy[point],xx[point]], popup=f'Cruise #: {cruise:0.0f}').add_to(marker_cluster)\n",
    "fmap"
   ]
  },
  {
   "cell_type": "markdown",
   "id": "441a595c",
   "metadata": {},
   "source": [
    "## Preprocess data\n",
    "With the help of the Xarray, we can also performed a quick masking on a specific species to see the distribution of the species during the trawling"
   ]
  },
  {
   "cell_type": "code",
   "execution_count": null,
   "id": "d6d00d1a",
   "metadata": {},
   "outputs": [],
   "source": [
    "ds_octo = ds.where(ds.scientific_name=='Octopoda',drop=True)"
   ]
  },
  {
   "cell_type": "code",
   "execution_count": null,
   "id": "8e554795",
   "metadata": {},
   "outputs": [],
   "source": [
    "import folium\n",
    "from folium import plugins\n",
    "\n",
    "lon = (ds_octo.stop_longitude.min().data + ds_octo.stop_longitude.max().data) / 2\n",
    "lat = (ds_octo.stop_latitude.min().data + ds_octo.stop_latitude.max().data) / 2\n",
    "\n",
    "fmap = folium.Map(location=[lat, lon], tiles=\"OpenStreetMap\", zoom_start=5)\n",
    "marker_cluster = plugins.MarkerCluster().add_to(fmap)\n",
    "\n",
    "for cruise in cruises:\n",
    "    yy = ds_octo.where(ds_octo.cruise == cruise,drop=True).stop_latitude.data\n",
    "    xx = ds_octo.where(ds_octo.cruise == cruise,drop=True).stop_longitude.data\n",
    "    for point in range(0, len(yy)):\n",
    "        folium.Marker([yy[point],xx[point]], popup=f'Cruise #: {cruise:0.0f}').add_to(marker_cluster)\n",
    "fmap"
   ]
  },
  {
   "cell_type": "markdown",
   "id": "89199f5c",
   "metadata": {},
   "source": [
    "## Export to netCDF\n",
    "To output the dataset, we use the `.to_netcdf()` method\n",
    "```\n",
    "ds.to_netcdf('./FRDCPSTrawlLHHaulCatch.nc')\n",
    "```"
   ]
  }
 ],
 "metadata": {
  "jupytext": {
   "text_representation": {
    "extension": ".md",
    "format_name": "myst",
    "format_version": 0.13,
    "jupytext_version": "1.14.5"
   }
  },
  "kernelspec": {
   "display_name": "Python 3 (ipykernel)",
   "language": "python",
   "name": "python3"
  },
  "source_map": [
   12,
   29,
   39,
   42,
   56,
   63,
   77,
   82,
   90,
   93,
   98,
   100,
   108,
   113,
   117,
   127,
   145,
   150,
   154,
   170
  ]
 },
 "nbformat": 4,
 "nbformat_minor": 5
}