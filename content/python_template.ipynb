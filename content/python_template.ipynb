{
 "cells": [
  {
   "cell_type": "markdown",
   "id": "560558e1-5401-4b29-8f2f-3cd39f4ef79c",
   "metadata": {},
   "source": [
    "Page Title\n",
    "===\n",
    "\n",
    "## Packages used\n",
    "- Xarray\n",
    "- netcdf4 \n",
    "- matplotlib\n",
    "- folium"
   ]
  },
  {
   "cell_type": "markdown",
   "id": "7cd68442",
   "metadata": {},
   "source": [
    ":::{admonition} little title\n",
    "Markdown\n",
    "[Xarray documentation](https://docs.xarray.dev/en/stable/user-guide/io.html#opendap) \n",
    "`backends.PydapDataStore`\n",
    "**bold**\n",
    ":::"
   ]
  },
  {
   "cell_type": "markdown",
   "id": "5d286582",
   "metadata": {},
   "source": [
    ":::{admonition} Tip\n",
    ":class: tip\n",
    ":::"
   ]
  },
  {
   "cell_type": "markdown",
   "id": "33cc4487",
   "metadata": {},
   "source": [
    ":::{admonition} Tip\n",
    ":class: info\n",
    ":::"
   ]
  },
  {
   "cell_type": "markdown",
   "id": "e4fb1ec4",
   "metadata": {},
   "source": [
    ":::{admonition} Tip\n",
    ":class: note\n",
    ":::"
   ]
  },
  {
   "cell_type": "markdown",
   "id": "3b1d53af",
   "metadata": {},
   "source": [
    ":::{admonition} Tip\n",
    ":class: important\n",
    ":::"
   ]
  },
  {
   "cell_type": "markdown",
   "id": "bca0af5b",
   "metadata": {},
   "source": [
    ":::{admonition} Tip\n",
    ":class: note, dropdown\n",
    ":::"
   ]
  },
  {
   "cell_type": "markdown",
   "id": "640ff23e",
   "metadata": {},
   "source": [
    "---"
   ]
  },
  {
   "cell_type": "markdown",
   "id": "6a2d8b5b",
   "metadata": {},
   "source": [
    "On this page, text"
   ]
  },
  {
   "cell_type": "markdown",
   "id": "47aee96d",
   "metadata": {},
   "source": [
    "## Import python packages"
   ]
  },
  {
   "cell_type": "code",
   "execution_count": 2,
   "id": "aece2081",
   "metadata": {},
   "outputs": [],
   "source": [
    "import xarray as xr"
   ]
  },
  {
   "cell_type": "markdown",
   "id": "d2317388",
   "metadata": {},
   "source": [
    "## Access data\n"
   ]
  },
  {
   "cell_type": "code",
   "execution_count": 5,
   "id": "a4440fec",
   "metadata": {},
   "outputs": [],
   "source": [
    "opendap_url = \"http://psl.noaa.gov/thredds/dodsC/Projects/CEFI/regional_mom6/hist_run/regrid/ocean_monthly.199301-201912.ssh.nc\"\n",
    "ds_ssh = xr.open_dataset(opendap_url)"
   ]
  },
  {
   "cell_type": "markdown",
   "id": "fe0e3288",
   "metadata": {},
   "source": [
    "## Quick view of the variable\n",
    "\n",
    "To check if the data makes sense and fits the chosen time and region, you can use Xarray's `.plot()` method. This way, you see a graph instead of just numbers, making it easier to understand."
   ]
  },
  {
   "cell_type": "markdown",
   "id": "31527309",
   "metadata": {},
   "source": [
    "### Export"
   ]
  }
 ],
 "metadata": {
  "kernelspec": {
   "display_name": "cefibook",
   "language": "python",
   "name": "python3"
  },
  "language_info": {
   "codemirror_mode": {
    "name": "ipython",
    "version": 3
   },
   "file_extension": ".py",
   "mimetype": "text/x-python",
   "name": "python",
   "nbconvert_exporter": "python",
   "pygments_lexer": "ipython3",
   "version": "3.10.11"
  }
 },
 "nbformat": 4,
 "nbformat_minor": 5
}
