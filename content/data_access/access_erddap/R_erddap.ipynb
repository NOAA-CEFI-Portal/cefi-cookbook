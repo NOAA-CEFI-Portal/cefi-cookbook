{
 "cells": [
  {
   "cell_type": "markdown",
   "id": "560558e1-5401-4b29-8f2f-3cd39f4ef79c",
   "metadata": {},
   "source": [
    "# Accessing ERDDAP data with R\n",
    "\n",
    "The following notebook is a quick demostration on how to use R to access the ERDDAP server data. This is designed for users that prefer the programing interface to be R. There are already couple of great resource related to preprocessing and visualizing data in R. Therefore, the notebook will not repeat that part of the code but focusing on how to accessing the data from a R interface. The resources is listed below \n",
    "> - http://cran.nexr.com/web/packages/rerddap/vignettes/Using_rerddap.html (A detail introduction of rerddap package and show the visualization in many different datasets)\n",
    "> - https://ioos.github.io/ioos_code_lab/content/code_gallery/data_access_notebooks/2017-08-01-xtractoR.html (use a different package called xtractomatic to access the ERDDAP data)"
   ]
  },
  {
   "cell_type": "markdown",
   "id": "62b231c3-16a6-440d-a178-396715d340aa",
   "metadata": {},
   "source": [
    "<div class=\"admonition alert alert-info\">\n",
    "    <p class=\"admonition-title\" style=\"font-weight:bold\">Launch R in Jupyterlab</p>\n",
    "    In addition to the standard R code demonstrated below, our current interface leverages JupyterLab to execute R code using the R kernel. To enable this functionality, we utilize the environment.yml file to create a Conda/Mamba environment. The primary objective is to install the r-irkernel package within this environment.\n",
    "\n",
    "This installation of r-irkernel through Conda/Mamba ensures that the R kernel becomes available as an option when launching JupyterLab. Selecting the R kernel empowers users to utilize the JupyterLab interface for running R code effortlessly.\n",
    "    \n",
    "</div>"
   ]
  },
  {
   "cell_type": "markdown",
   "id": "4e990fee-7c73-4a24-b47e-d2d0b63f7631",
   "metadata": {},
   "source": [
    "## Packages used\n",
    "To use R to access the ERDDAP server directly from your R script or R-notebook, you will need\n",
    "- rerddap\n",
    "\n",
    "There are couple of ways to install the `rerddap` package, here we provide two popular ways below\n",
    "1. In the R environment, `install.packages('rerddap')`\n",
    "2. In the conda environment for different package version control, `conda install r-rerddap` (many r package can be install this way by adding \"r-\" in front of the package name)\n"
   ]
  },
  {
   "cell_type": "markdown",
   "id": "efe16ea0-3ec6-45c0-944f-70e1ccac7fab",
   "metadata": {},
   "source": [
    "## Import R packages\n",
    "The way to import packages to the current R environment is to use the `require` or `library` functions\n",
    "Both functions will import the package but with subtle different of \n",
    "> The require() and library() functions can both be used to load packages in R, but they have one subtle difference:\n",
    ">\n",
    "> - require() will output a warning if a package is not installed and then continue to execute the code.\n",
    "> - library() will output an error and stop the execution of the code.\n",
    "\n",
    "Detail explanation cna be find [here](https://www.statology.org/r-require-vs-library/#:~:text=The%20require()%20and%20library,the%20execution%20of%20the%20code.)"
   ]
  },
  {
   "cell_type": "code",
   "execution_count": 1,
   "id": "10b698ab-92a8-4333-b0e5-85ce404fb8c7",
   "metadata": {
    "tags": [],
    "vscode": {
     "languageId": "r"
    }
   },
   "outputs": [],
   "source": [
    "library(\"rerddap\")"
   ]
  },
  {
   "cell_type": "markdown",
   "id": "d407280f-7e42-4218-ba29-bdcc54da7a63",
   "metadata": {},
   "source": [
    "## Help page for the package and related functions\n",
    "A great way to find information about the package directly in the R-notebook environment is to add the `?` in front of the package/function name"
   ]
  },
  {
   "cell_type": "code",
   "execution_count": 2,
   "id": "94d2a578-2475-4609-a088-1be97b8b8a9f",
   "metadata": {
    "tags": [],
    "vscode": {
     "languageId": "r"
    }
   },
   "outputs": [
    {
     "data": {
      "text/html": [
       "\n",
       "<table style=\"width: 100%;\"><tr><td>rerddap-package {rerddap}</td><td style=\"text-align: right;\">R Documentation</td></tr></table>\n",
       "\n",
       "<h2>rerddap</h2>\n",
       "\n",
       "<h3>Description</h3>\n",
       "\n",
       "<p>General purpose R client for ERDDAP servers\n",
       "</p>\n",
       "\n",
       "\n",
       "<h3>ERDDAP info</h3>\n",
       "\n",
       "<p>NOAA's ERDDAP service holds many datasets of interest. It's built on top of\n",
       "OPenDAP. You can search for datasets via\n",
       "<code>ed_search()</code>, list datasets via <code>ed_datasets()</code>,\n",
       "get information on a single dataset via <code>info()</code>, then get\n",
       "data you want for either tabledap type via <code>tabledap()</code>, or\n",
       "for griddap type via <code>griddap()</code>\n",
       "</p>\n",
       "\n",
       "\n",
       "<h3>tabledap/griddap</h3>\n",
       "\n",
       "<p>tabledap and griddap have different interfaces to query for data, so\n",
       "<code>tabledap()</code> and <code>griddap()</code> are separated out as\n",
       "separate functions even though some of the internals are the same. In\n",
       "particular, with tabledap you can query on/subset all variables, whereas\n",
       "with gridddap, you can only query on/subset the dimension varibles (e.g.,\n",
       "latitude, longitude, altitude).\n",
       "</p>\n",
       "\n",
       "\n",
       "<h3>Data size</h3>\n",
       "\n",
       "<p>With griddap data via <code>griddap()</code> you can get a lot of\n",
       "data quickly. Try small searches of a dataset to start to get a sense for\n",
       "the data, then you can increase the amount of data you get. See\n",
       "<code>griddap()</code> for more details.\n",
       "</p>\n",
       "\n",
       "\n",
       "<h3>Caching</h3>\n",
       "\n",
       "<p><span class=\"pkg\">rerddap</span> by default caches the requests you make, so that if you happen to\n",
       "make the same request again, the data is restored from the cache, rather than\n",
       "having to go out and retrieve it remotely.  For most applications, this is good,\n",
       "as it can speed things up when doing a lot of request in a script, and works\n",
       "because in most cases an ERDDAP request is &quot;idempotent&quot;.  This means that the\n",
       "the request will always return the same thing no matter what requests came\n",
       "before - it doesn't depend on state. However this is not true if the\n",
       "script uses either &quot;last&quot; in <code>griddap()</code> or &quot;now&quot; in <code>tabledap()</code> as these\n",
       "will return different values as time elapses and data are added to the\n",
       "datasets.  While it is desirable to have ERDDAP purely idempotent,  the\n",
       "&quot;last&quot; and &quot;now&quot; constructs are very helpful for people using ERDDAP\n",
       "in dashboards, webpages, regular input to models and the like, and the\n",
       "benefits far outweigh the problems.  However, if you are using either &quot;last&quot;\n",
       "or &quot;now&quot; in an <span class=\"pkg\">rerddap</span> based script, you want to be very careful to\n",
       "clear the <span class=\"pkg\">rerddap</span> cache, otherwise the request will be viewed as the\n",
       "same,  and the data from the last request, rather than the latest data,\n",
       "will be returned.\n",
       "</p>\n",
       "\n",
       "<hr /><div style=\"text-align: center;\">[Package <em>rerddap</em> version 1.0.2 ]</div>\n",
       "</div>"
      ],
      "text/latex": [
       "\\inputencoding{utf8}\n",
       "\\HeaderA{rerddap-package}{rerddap}{rerddap.Rdash.package}\n",
       "\\aliasA{rerddap}{rerddap-package}{rerddap}\n",
       "\\keyword{package}{rerddap-package}\n",
       "%\n",
       "\\begin{Description}\\relax\n",
       "General purpose R client for ERDDAP servers\n",
       "\\end{Description}\n",
       "%\n",
       "\\begin{Section}{ERDDAP info}\n",
       "\n",
       "NOAA's ERDDAP service holds many datasets of interest. It's built on top of\n",
       "OPenDAP. You can search for datasets via\n",
       "\\code{\\LinkA{ed\\_search()}{ed.Rul.search}}, list datasets via \\code{\\LinkA{ed\\_datasets()}{ed.Rul.datasets}},\n",
       "get information on a single dataset via \\code{\\LinkA{info()}{info}}, then get\n",
       "data you want for either tabledap type via \\code{\\LinkA{tabledap()}{tabledap}}, or\n",
       "for griddap type via \\code{\\LinkA{griddap()}{griddap}}\n",
       "\\end{Section}\n",
       "%\n",
       "\\begin{Section}{tabledap/griddap}\n",
       "\n",
       "tabledap and griddap have different interfaces to query for data, so\n",
       "\\code{\\LinkA{tabledap()}{tabledap}} and \\code{\\LinkA{griddap()}{griddap}} are separated out as\n",
       "separate functions even though some of the internals are the same. In\n",
       "particular, with tabledap you can query on/subset all variables, whereas\n",
       "with gridddap, you can only query on/subset the dimension varibles (e.g.,\n",
       "latitude, longitude, altitude).\n",
       "\\end{Section}\n",
       "%\n",
       "\\begin{Section}{Data size}\n",
       "\n",
       "With griddap data via \\code{\\LinkA{griddap()}{griddap}} you can get a lot of\n",
       "data quickly. Try small searches of a dataset to start to get a sense for\n",
       "the data, then you can increase the amount of data you get. See\n",
       "\\code{\\LinkA{griddap()}{griddap}} for more details.\n",
       "\\end{Section}\n",
       "%\n",
       "\\begin{Section}{Caching}\n",
       "\n",
       "\\pkg{rerddap} by default caches the requests you make, so that if you happen to\n",
       "make the same request again, the data is restored from the cache, rather than\n",
       "having to go out and retrieve it remotely.  For most applications, this is good,\n",
       "as it can speed things up when doing a lot of request in a script, and works\n",
       "because in most cases an ERDDAP request is \"idempotent\".  This means that the\n",
       "the request will always return the same thing no matter what requests came\n",
       "before - it doesn't depend on state. However this is not true if the\n",
       "script uses either \"last\" in \\code{\\LinkA{griddap()}{griddap}} or \"now\" in \\code{\\LinkA{tabledap()}{tabledap}} as these\n",
       "will return different values as time elapses and data are added to the\n",
       "datasets.  While it is desirable to have ERDDAP purely idempotent,  the\n",
       "\"last\" and \"now\" constructs are very helpful for people using ERDDAP\n",
       "in dashboards, webpages, regular input to models and the like, and the\n",
       "benefits far outweigh the problems.  However, if you are using either \"last\"\n",
       "or \"now\" in an \\pkg{rerddap} based script, you want to be very careful to\n",
       "clear the \\pkg{rerddap} cache, otherwise the request will be viewed as the\n",
       "same,  and the data from the last request, rather than the latest data,\n",
       "will be returned.\n",
       "\\end{Section}"
      ],
      "text/plain": [
       "rerddap-package            package:rerddap             R Documentation\n",
       "\n",
       "_\br_\be_\br_\bd_\bd_\ba_\bp\n",
       "\n",
       "_\bD_\be_\bs_\bc_\br_\bi_\bp_\bt_\bi_\bo_\bn:\n",
       "\n",
       "     General purpose R client for ERDDAP servers\n",
       "\n",
       "_\bE_\bR_\bD_\bD_\bA_\bP _\bi_\bn_\bf_\bo:\n",
       "\n",
       "     NOAA's ERDDAP service holds many datasets of interest. It's built\n",
       "     on top of OPenDAP. You can search for datasets via ‘ed_search()’,\n",
       "     list datasets via ‘ed_datasets()’, get information on a single\n",
       "     dataset via ‘info()’, then get data you want for either tabledap\n",
       "     type via ‘tabledap()’, or for griddap type via ‘griddap()’\n",
       "\n",
       "_\bt_\ba_\bb_\bl_\be_\bd_\ba_\bp/_\bg_\br_\bi_\bd_\bd_\ba_\bp:\n",
       "\n",
       "     tabledap and griddap have different interfaces to query for data,\n",
       "     so ‘tabledap()’ and ‘griddap()’ are separated out as separate\n",
       "     functions even though some of the internals are the same. In\n",
       "     particular, with tabledap you can query on/subset all variables,\n",
       "     whereas with gridddap, you can only query on/subset the dimension\n",
       "     varibles (e.g., latitude, longitude, altitude).\n",
       "\n",
       "_\bD_\ba_\bt_\ba _\bs_\bi_\bz_\be:\n",
       "\n",
       "     With griddap data via ‘griddap()’ you can get a lot of data\n",
       "     quickly. Try small searches of a dataset to start to get a sense\n",
       "     for the data, then you can increase the amount of data you get.\n",
       "     See ‘griddap()’ for more details.\n",
       "\n",
       "_\bC_\ba_\bc_\bh_\bi_\bn_\bg:\n",
       "\n",
       "     ‘rerddap’ by default caches the requests you make, so that if you\n",
       "     happen to make the same request again, the data is restored from\n",
       "     the cache, rather than having to go out and retrieve it remotely.\n",
       "     For most applications, this is good, as it can speed things up\n",
       "     when doing a lot of request in a script, and works because in most\n",
       "     cases an ERDDAP request is \"idempotent\".  This means that the the\n",
       "     request will always return the same thing no matter what requests\n",
       "     came before - it doesn't depend on state. However this is not true\n",
       "     if the script uses either \"last\" in ‘griddap()’ or \"now\" in\n",
       "     ‘tabledap()’ as these will return different values as time elapses\n",
       "     and data are added to the datasets.  While it is desirable to have\n",
       "     ERDDAP purely idempotent, the \"last\" and \"now\" constructs are very\n",
       "     helpful for people using ERDDAP in dashboards, webpages, regular\n",
       "     input to models and the like, and the benefits far outweigh the\n",
       "     problems.  However, if you are using either \"last\" or \"now\" in an\n",
       "     ‘rerddap’ based script, you want to be very careful to clear the\n",
       "     ‘rerddap’ cache, otherwise the request will be viewed as the same,\n",
       "     and the data from the last request, rather than the latest data,\n",
       "     will be returned.\n"
      ]
     },
     "metadata": {},
     "output_type": "display_data"
    }
   ],
   "source": [
    "?rerddap"
   ]
  },
  {
   "cell_type": "markdown",
   "id": "00d0f003-ef1d-4b5b-a6f0-1e995d0f9490",
   "metadata": {},
   "source": [
    "To find information about a function in a specific package"
   ]
  },
  {
   "cell_type": "code",
   "execution_count": 3,
   "id": "ebfe5d41-27f3-464e-9666-cdea54d705c6",
   "metadata": {
    "tags": [],
    "vscode": {
     "languageId": "r"
    }
   },
   "outputs": [
    {
     "data": {
      "text/html": [
       "\n",
       "<table style=\"width: 100%;\"><tr><td>ed_search {rerddap}</td><td style=\"text-align: right;\">R Documentation</td></tr></table>\n",
       "\n",
       "<h2>Search for ERDDAP tabledep or griddap datasets</h2>\n",
       "\n",
       "<h3>Description</h3>\n",
       "\n",
       "<p>Search for ERDDAP tabledep or griddap datasets\n",
       "</p>\n",
       "\n",
       "\n",
       "<h3>Usage</h3>\n",
       "\n",
       "<pre><code class='language-R'>ed_search(\n",
       "  query,\n",
       "  page = NULL,\n",
       "  page_size = NULL,\n",
       "  which = \"griddap\",\n",
       "  url = eurl(),\n",
       "  ...\n",
       ")\n",
       "\n",
       "ed_datasets(which = \"tabledap\", url = eurl())\n",
       "</code></pre>\n",
       "\n",
       "\n",
       "<h3>Arguments</h3>\n",
       "\n",
       "<table>\n",
       "<tr style=\"vertical-align: top;\"><td><code>query</code></td>\n",
       "<td>\n",
       "<p>(character) Search terms</p>\n",
       "</td></tr>\n",
       "<tr style=\"vertical-align: top;\"><td><code>page</code></td>\n",
       "<td>\n",
       "<p>(integer) Page number</p>\n",
       "</td></tr>\n",
       "<tr style=\"vertical-align: top;\"><td><code>page_size</code></td>\n",
       "<td>\n",
       "<p>(integer) Results per page</p>\n",
       "</td></tr>\n",
       "<tr style=\"vertical-align: top;\"><td><code>which</code></td>\n",
       "<td>\n",
       "<p>(character) One of tabledep or griddap.</p>\n",
       "</td></tr>\n",
       "<tr style=\"vertical-align: top;\"><td><code>url</code></td>\n",
       "<td>\n",
       "<p>A URL for an ERDDAP server. Default:\n",
       "https://upwell.pfeg.noaa.gov/erddap/ - See <code>eurl()</code> for\n",
       "more information</p>\n",
       "</td></tr>\n",
       "<tr style=\"vertical-align: top;\"><td><code>...</code></td>\n",
       "<td>\n",
       "<p>Curl options passed on to crul::verb-GET (must be\n",
       "named parameters)</p>\n",
       "</td></tr>\n",
       "</table>\n",
       "\n",
       "\n",
       "<h3>References</h3>\n",
       "\n",
       "<p>https://upwell.pfeg.noaa.gov/erddap/index.html\n",
       "</p>\n",
       "\n",
       "\n",
       "<h3>Examples</h3>\n",
       "\n",
       "<pre><code class='language-R'>## Not run: \n",
       "(out &lt;- ed_search(query='temperature'))\n",
       "out$alldata[[1]]\n",
       "(out &lt;- ed_search(query='size'))\n",
       "out$info\n",
       "\n",
       "# List datasets\n",
       "ed_datasets('table')\n",
       "ed_datasets('grid')\n",
       "\n",
       "# use a different ERDDAP server\n",
       "## Marine Institute (Ireland)\n",
       "ed_search(\"temperature\", url = \"http://erddap.marine.ie/erddap/\")\n",
       "\n",
       "## End(Not run)\n",
       "</code></pre>\n",
       "\n",
       "<hr /><div style=\"text-align: center;\">[Package <em>rerddap</em> version 1.0.2 ]</div>\n",
       "</div>"
      ],
      "text/latex": [
       "\\inputencoding{utf8}\n",
       "\\HeaderA{ed\\_search}{Search for ERDDAP tabledep or griddap datasets}{ed.Rul.search}\n",
       "\\aliasA{ed\\_datasets}{ed\\_search}{ed.Rul.datasets}\n",
       "%\n",
       "\\begin{Description}\\relax\n",
       "Search for ERDDAP tabledep or griddap datasets\n",
       "\\end{Description}\n",
       "%\n",
       "\\begin{Usage}\n",
       "\\begin{verbatim}\n",
       "ed_search(\n",
       "  query,\n",
       "  page = NULL,\n",
       "  page_size = NULL,\n",
       "  which = \"griddap\",\n",
       "  url = eurl(),\n",
       "  ...\n",
       ")\n",
       "\n",
       "ed_datasets(which = \"tabledap\", url = eurl())\n",
       "\\end{verbatim}\n",
       "\\end{Usage}\n",
       "%\n",
       "\\begin{Arguments}\n",
       "\\begin{ldescription}\n",
       "\\item[\\code{query}] (character) Search terms\n",
       "\n",
       "\\item[\\code{page}] (integer) Page number\n",
       "\n",
       "\\item[\\code{page\\_size}] (integer) Results per page\n",
       "\n",
       "\\item[\\code{which}] (character) One of tabledep or griddap.\n",
       "\n",
       "\\item[\\code{url}] A URL for an ERDDAP server. Default:\n",
       "https://upwell.pfeg.noaa.gov/erddap/ - See \\code{\\LinkA{eurl()}{eurl}} for\n",
       "more information\n",
       "\n",
       "\\item[\\code{...}] Curl options passed on to \\LinkA{crul::verb-GET}{crul::verb.Rdash.GET} (must be\n",
       "named parameters)\n",
       "\\end{ldescription}\n",
       "\\end{Arguments}\n",
       "%\n",
       "\\begin{References}\\relax\n",
       "https://upwell.pfeg.noaa.gov/erddap/index.html\n",
       "\\end{References}\n",
       "%\n",
       "\\begin{Examples}\n",
       "\\begin{ExampleCode}\n",
       "## Not run: \n",
       "(out <- ed_search(query='temperature'))\n",
       "out$alldata[[1]]\n",
       "(out <- ed_search(query='size'))\n",
       "out$info\n",
       "\n",
       "# List datasets\n",
       "ed_datasets('table')\n",
       "ed_datasets('grid')\n",
       "\n",
       "# use a different ERDDAP server\n",
       "## Marine Institute (Ireland)\n",
       "ed_search(\"temperature\", url = \"http://erddap.marine.ie/erddap/\")\n",
       "\n",
       "## End(Not run)\n",
       "\\end{ExampleCode}\n",
       "\\end{Examples}"
      ],
      "text/plain": [
       "ed_search               package:rerddap                R Documentation\n",
       "\n",
       "_\bS_\be_\ba_\br_\bc_\bh _\bf_\bo_\br _\bE_\bR_\bD_\bD_\bA_\bP _\bt_\ba_\bb_\bl_\be_\bd_\be_\bp _\bo_\br _\bg_\br_\bi_\bd_\bd_\ba_\bp _\bd_\ba_\bt_\ba_\bs_\be_\bt_\bs\n",
       "\n",
       "_\bD_\be_\bs_\bc_\br_\bi_\bp_\bt_\bi_\bo_\bn:\n",
       "\n",
       "     Search for ERDDAP tabledep or griddap datasets\n",
       "\n",
       "_\bU_\bs_\ba_\bg_\be:\n",
       "\n",
       "     ed_search(\n",
       "       query,\n",
       "       page = NULL,\n",
       "       page_size = NULL,\n",
       "       which = \"griddap\",\n",
       "       url = eurl(),\n",
       "       ...\n",
       "     )\n",
       "     \n",
       "     ed_datasets(which = \"tabledap\", url = eurl())\n",
       "     \n",
       "_\bA_\br_\bg_\bu_\bm_\be_\bn_\bt_\bs:\n",
       "\n",
       "   query: (character) Search terms\n",
       "\n",
       "    page: (integer) Page number\n",
       "\n",
       "page_size: (integer) Results per page\n",
       "\n",
       "   which: (character) One of tabledep or griddap.\n",
       "\n",
       "     url: A URL for an ERDDAP server. Default:\n",
       "          https://upwell.pfeg.noaa.gov/erddap/ - See ‘eurl()’ for more\n",
       "          information\n",
       "\n",
       "     ...: Curl options passed on to crul::verb-GET (must be named\n",
       "          parameters)\n",
       "\n",
       "_\bR_\be_\bf_\be_\br_\be_\bn_\bc_\be_\bs:\n",
       "\n",
       "     https://upwell.pfeg.noaa.gov/erddap/index.html\n",
       "\n",
       "_\bE_\bx_\ba_\bm_\bp_\bl_\be_\bs:\n",
       "\n",
       "     ## Not run:\n",
       "     \n",
       "     (out <- ed_search(query='temperature'))\n",
       "     out$alldata[[1]]\n",
       "     (out <- ed_search(query='size'))\n",
       "     out$info\n",
       "     \n",
       "     # List datasets\n",
       "     ed_datasets('table')\n",
       "     ed_datasets('grid')\n",
       "     \n",
       "     # use a different ERDDAP server\n",
       "     ## Marine Institute (Ireland)\n",
       "     ed_search(\"temperature\", url = \"http://erddap.marine.ie/erddap/\")\n",
       "     ## End(Not run)\n",
       "     "
      ]
     },
     "metadata": {},
     "output_type": "display_data"
    }
   ],
   "source": [
    "?rerddap::ed_search"
   ]
  },
  {
   "cell_type": "markdown",
   "id": "e4711929-bfa1-4e19-a9b5-e3007d51d031",
   "metadata": {},
   "source": [
    "## Direct ERDDAP server based search of datasets\n",
    "\n",
    "The `rerddap::ed_search` helps user search for data directly on a ERDDAP server. It give user an output of all dataset full names and the associated dataset_id which is important for the downloading. Here we demostrate the `ed_search` function with query of sea surface temperature (sst) dataset."
   ]
  },
  {
   "cell_type": "code",
   "execution_count": 4,
   "id": "0490caf0-d358-46df-8d50-5dafb2f0ab08",
   "metadata": {
    "tags": [],
    "vscode": {
     "languageId": "r"
    }
   },
   "outputs": [],
   "source": [
    "whichSST <- rerddap::ed_search(query = \"sst\")"
   ]
  },
  {
   "cell_type": "code",
   "execution_count": 5,
   "id": "45fe590f-2fda-4f03-a7d8-52e39c987f4e",
   "metadata": {
    "tags": [],
    "vscode": {
     "languageId": "r"
    }
   },
   "outputs": [
    {
     "data": {
      "text/plain": [
       "\u001b[90m# A tibble: 980 × 2\u001b[39m\n",
       "   title                                                              dataset_id\n",
       "   \u001b[3m\u001b[90m<chr>\u001b[39m\u001b[23m                                                              \u001b[3m\u001b[90m<chr>\u001b[39m\u001b[23m     \n",
       "\u001b[90m 1\u001b[39m COBE SST Analysis (sst.mon.ltm.1981-2010), 1.0°, 0001              noaa_psl_…\n",
       "\u001b[90m 2\u001b[39m COBE SST Analysis (sst.mon.ltm.1991-2020), 1.0°, 0001              noaa_psl_…\n",
       "\u001b[90m 3\u001b[39m COBE SST Analysis (sst.mon.mean), 1.0°, 1891-present               noaa_psl_…\n",
       "\u001b[90m 4\u001b[39m HadISST Average Sea Surface Temperature, 1°, Global, Monthly, 187… erdHadISST\n",
       "\u001b[90m 5\u001b[39m HadISST Average Sea Surface Temperature, 1°, Global, Monthly, 187… erdHadISS…\n",
       "\u001b[90m 6\u001b[39m NOAA ERSSTv4 (in situ only), 2°, Global, Monthly, 1854-2020        nceiErsst…\n",
       "\u001b[90m 7\u001b[39m NOAA ERSSTv4 (in situ only), 2°, Global, Monthly, 1854-2020, Lon+… nceiErsst…\n",
       "\u001b[90m 8\u001b[39m NOAA ERSSTv5 (in situ only) (sst.mnmean), 2.0°, 1854-present       noaa_psl_…\n",
       "\u001b[90m 9\u001b[39m NOAA ERSSTv5 (in situ only) (sst.mon.ltm), 2.0°, 0001              noaa_psl_…\n",
       "\u001b[90m10\u001b[39m NOAA ERSSTv5 (in situ only) (sst.mon.ltm.1981-2010), 2.0°, 0001    noaa_psl_…\n",
       "\u001b[90m# ℹ 970 more rows\u001b[39m"
      ]
     },
     "metadata": {},
     "output_type": "display_data"
    }
   ],
   "source": [
    "whichSST"
   ]
  },
  {
   "cell_type": "markdown",
   "id": "c55b3c0f-b72a-48f6-8a82-211d49f9090d",
   "metadata": {},
   "source": [
    "If the url argument is not specified, the search will be the default ERDDAP server which is located at [ NOAA NMFS SWFSC ERD](https://coastwatch.pfeg.noaa.gov/erddap/index.html). To switch from the default server to a specific server, one can set the server url manually in one of the argument as the following."
   ]
  },
  {
   "cell_type": "code",
   "execution_count": 7,
   "id": "6cee437e-9358-4859-a520-7fa89719e0c0",
   "metadata": {
    "tags": [],
    "vscode": {
     "languageId": "r"
    }
   },
   "outputs": [],
   "source": [
    "whichSST2 <- rerddap::ed_search(query = \"sst\", url = \"https://erddap.ifremer.fr/erddap/\")"
   ]
  },
  {
   "cell_type": "markdown",
   "id": "01e5ddf2-94fd-41d1-b677-562e2357f3ef",
   "metadata": {},
   "source": [
    "Once the url is changed to other server, a different set of SST dataset can been seen below."
   ]
  },
  {
   "cell_type": "code",
   "execution_count": 8,
   "id": "777d0aef-16ee-4128-aff3-75807dd3c5cc",
   "metadata": {
    "tags": [],
    "vscode": {
     "languageId": "r"
    }
   },
   "outputs": [
    {
     "data": {
      "text/plain": [
       "\u001b[90m# A tibble: 2 × 2\u001b[39m\n",
       "  title                        dataset_id                    \n",
       "  \u001b[3m\u001b[90m<chr>\u001b[39m\u001b[23m                        \u001b[3m\u001b[90m<chr>\u001b[39m\u001b[23m                         \n",
       "\u001b[90m1\u001b[39m Daily MUR SST, Final product SST_Anomalies_Caledonie       \n",
       "\u001b[90m2\u001b[39m Global Odyssea SST Analysis  IFR-L4-SSTfnd-ODYSSEA-GLOB_010"
      ]
     },
     "metadata": {},
     "output_type": "display_data"
    }
   ],
   "source": [
    "whichSST2"
   ]
  },
  {
   "cell_type": "markdown",
   "id": "03832120-5b4d-4f78-b05c-acf8660e9f0a",
   "metadata": {},
   "source": [
    "## Information about the dataset\n",
    "For a quick peek of the data meta data, one can also use the `info` function "
   ]
  },
  {
   "cell_type": "code",
   "execution_count": 11,
   "id": "5c57d4de-fdfa-4086-8aa9-0f66b23037f4",
   "metadata": {
    "vscode": {
     "languageId": "r"
    }
   },
   "outputs": [
    {
     "data": {
      "text/plain": [
       "<ERDDAP info> SST_Anomalies_Caledonie \n",
       " Base URL: https://erddap.ifremer.fr/erddap \n",
       " Dataset Type: griddap \n",
       " Dimensions (range):  \n",
       "     time: (2014-01-16T09:00:00Z, 2021-12-16T09:00:00Z) \n",
       "     latitude: (-27.0, -14.01) \n",
       "     longitude: (155.01, 175.01) \n",
       " Variables:  \n",
       "     analysed_sst: \n",
       "         Units: kelvin "
      ]
     },
     "metadata": {},
     "output_type": "display_data"
    }
   ],
   "source": [
    "info('SST_Anomalies_Caledonie',url = \"https://erddap.ifremer.fr/erddap/\")"
   ]
  },
  {
   "cell_type": "markdown",
   "id": "e9d31fed-7335-4270-81de-e180aaf2598a",
   "metadata": {},
   "source": [
    "## Subsetting and download to local memory\n",
    "Here we focus on downloading a gridded dataset in the default ERDDAP server and subsetting it in the notebook."
   ]
  },
  {
   "cell_type": "code",
   "execution_count": 12,
   "id": "c182c8a2-e6ba-4a8e-9467-56007c509744",
   "metadata": {
    "tags": [],
    "vscode": {
     "languageId": "r"
    }
   },
   "outputs": [
    {
     "name": "stderr",
     "output_type": "stream",
     "text": [
      "info() output passed to x; setting base url to: https://upwell.pfeg.noaa.gov/erddap\n",
      "\n"
     ]
    }
   ],
   "source": [
    "sstInfo <- info('nceiErsstv5_LonPM180')\n",
    "erSST <- griddap(sstInfo, latitude = c(22., 51.), longitude = c(-140., -105), time = c(\"2017-01-01\", \"2017-01-02\"), fields = 'ssta')"
   ]
  },
  {
   "cell_type": "markdown",
   "id": "b7bca5f4-6c89-4a29-8646-479a54ee9424",
   "metadata": {
    "tags": [],
    "vscode": {
     "languageId": "r"
    }
   },
   "source": [
    "erSST"
   ]
  },
  {
   "cell_type": "markdown",
   "id": "4d1e2387-32e8-48e9-a0c3-39a0fc625b5b",
   "metadata": {},
   "source": [
    "The data can be viewed or used in the form of a data frame in R as following"
   ]
  },
  {
   "cell_type": "code",
   "execution_count": 8,
   "id": "1bbc6f04-d022-4a02-868c-5c64907f3cc7",
   "metadata": {
    "scrolled": true,
    "tags": [],
    "vscode": {
     "languageId": "r"
    }
   },
   "outputs": [
    {
     "data": {
      "text/html": [
       "<table class=\"dataframe\">\n",
       "<caption>A data.frame: 304 × 5</caption>\n",
       "<thead>\n",
       "\t<tr><th scope=col>longitude</th><th scope=col>latitude</th><th scope=col>depth</th><th scope=col>time</th><th scope=col>ssta</th></tr>\n",
       "\t<tr><th scope=col>&lt;dbl[1d]&gt;</th><th scope=col>&lt;dbl[1d]&gt;</th><th scope=col>&lt;dbl[1d]&gt;</th><th scope=col>&lt;chr&gt;</th><th scope=col>&lt;dbl&gt;</th></tr>\n",
       "</thead>\n",
       "<tbody>\n",
       "\t<tr><td>-140</td><td>22</td><td>0</td><td>2017-01-15T00:00:00Z</td><td>0.4975815</td></tr>\n",
       "\t<tr><td>-138</td><td>22</td><td>0</td><td>2017-01-15T00:00:00Z</td><td>0.5484982</td></tr>\n",
       "\t<tr><td>-136</td><td>22</td><td>0</td><td>2017-01-15T00:00:00Z</td><td>0.6286888</td></tr>\n",
       "\t<tr><td>-134</td><td>22</td><td>0</td><td>2017-01-15T00:00:00Z</td><td>0.6980591</td></tr>\n",
       "\t<tr><td>-132</td><td>22</td><td>0</td><td>2017-01-15T00:00:00Z</td><td>0.7338963</td></tr>\n",
       "\t<tr><td>-130</td><td>22</td><td>0</td><td>2017-01-15T00:00:00Z</td><td>0.7631321</td></tr>\n",
       "\t<tr><td>-128</td><td>22</td><td>0</td><td>2017-01-15T00:00:00Z</td><td>0.8205128</td></tr>\n",
       "\t<tr><td>-126</td><td>22</td><td>0</td><td>2017-01-15T00:00:00Z</td><td>0.8727989</td></tr>\n",
       "\t<tr><td>-124</td><td>22</td><td>0</td><td>2017-01-15T00:00:00Z</td><td>0.8595047</td></tr>\n",
       "\t<tr><td>-122</td><td>22</td><td>0</td><td>2017-01-15T00:00:00Z</td><td>0.7678528</td></tr>\n",
       "\t<tr><td>-120</td><td>22</td><td>0</td><td>2017-01-15T00:00:00Z</td><td>0.6379509</td></tr>\n",
       "\t<tr><td>-118</td><td>22</td><td>0</td><td>2017-01-15T00:00:00Z</td><td>0.5156460</td></tr>\n",
       "\t<tr><td>-116</td><td>22</td><td>0</td><td>2017-01-15T00:00:00Z</td><td>0.3866863</td></tr>\n",
       "\t<tr><td>-114</td><td>22</td><td>0</td><td>2017-01-15T00:00:00Z</td><td>0.3033581</td></tr>\n",
       "\t<tr><td>-112</td><td>22</td><td>0</td><td>2017-01-15T00:00:00Z</td><td>0.2495575</td></tr>\n",
       "\t<tr><td>-110</td><td>22</td><td>0</td><td>2017-01-15T00:00:00Z</td><td>0.2187004</td></tr>\n",
       "\t<tr><td>-108</td><td>22</td><td>0</td><td>2017-01-15T00:00:00Z</td><td>0.2276649</td></tr>\n",
       "\t<tr><td>-106</td><td>22</td><td>0</td><td>2017-01-15T00:00:00Z</td><td>0.2507744</td></tr>\n",
       "\t<tr><td>-104</td><td>22</td><td>0</td><td>2017-01-15T00:00:00Z</td><td>      NaN</td></tr>\n",
       "\t<tr><td>-140</td><td>24</td><td>0</td><td>2017-01-15T00:00:00Z</td><td>0.5302029</td></tr>\n",
       "\t<tr><td>-138</td><td>24</td><td>0</td><td>2017-01-15T00:00:00Z</td><td>0.5568810</td></tr>\n",
       "\t<tr><td>-136</td><td>24</td><td>0</td><td>2017-01-15T00:00:00Z</td><td>0.5974770</td></tr>\n",
       "\t<tr><td>-134</td><td>24</td><td>0</td><td>2017-01-15T00:00:00Z</td><td>0.6192532</td></tr>\n",
       "\t<tr><td>-132</td><td>24</td><td>0</td><td>2017-01-15T00:00:00Z</td><td>0.6023712</td></tr>\n",
       "\t<tr><td>-130</td><td>24</td><td>0</td><td>2017-01-15T00:00:00Z</td><td>0.5866547</td></tr>\n",
       "\t<tr><td>-128</td><td>24</td><td>0</td><td>2017-01-15T00:00:00Z</td><td>0.6152802</td></tr>\n",
       "\t<tr><td>-126</td><td>24</td><td>0</td><td>2017-01-15T00:00:00Z</td><td>0.6616249</td></tr>\n",
       "\t<tr><td>-124</td><td>24</td><td>0</td><td>2017-01-15T00:00:00Z</td><td>0.6624088</td></tr>\n",
       "\t<tr><td>-122</td><td>24</td><td>0</td><td>2017-01-15T00:00:00Z</td><td>0.6034908</td></tr>\n",
       "\t<tr><td>-120</td><td>24</td><td>0</td><td>2017-01-15T00:00:00Z</td><td>0.5108833</td></tr>\n",
       "\t<tr><td>⋮</td><td>⋮</td><td>⋮</td><td>⋮</td><td>⋮</td></tr>\n",
       "\t<tr><td>-124</td><td>50</td><td>0</td><td>2017-01-15T00:00:00Z</td><td>0.3266554</td></tr>\n",
       "\t<tr><td>-122</td><td>50</td><td>0</td><td>2017-01-15T00:00:00Z</td><td>      NaN</td></tr>\n",
       "\t<tr><td>-120</td><td>50</td><td>0</td><td>2017-01-15T00:00:00Z</td><td>      NaN</td></tr>\n",
       "\t<tr><td>-118</td><td>50</td><td>0</td><td>2017-01-15T00:00:00Z</td><td>      NaN</td></tr>\n",
       "\t<tr><td>-116</td><td>50</td><td>0</td><td>2017-01-15T00:00:00Z</td><td>      NaN</td></tr>\n",
       "\t<tr><td>-114</td><td>50</td><td>0</td><td>2017-01-15T00:00:00Z</td><td>      NaN</td></tr>\n",
       "\t<tr><td>-112</td><td>50</td><td>0</td><td>2017-01-15T00:00:00Z</td><td>      NaN</td></tr>\n",
       "\t<tr><td>-110</td><td>50</td><td>0</td><td>2017-01-15T00:00:00Z</td><td>      NaN</td></tr>\n",
       "\t<tr><td>-108</td><td>50</td><td>0</td><td>2017-01-15T00:00:00Z</td><td>      NaN</td></tr>\n",
       "\t<tr><td>-106</td><td>50</td><td>0</td><td>2017-01-15T00:00:00Z</td><td>      NaN</td></tr>\n",
       "\t<tr><td>-104</td><td>50</td><td>0</td><td>2017-01-15T00:00:00Z</td><td>      NaN</td></tr>\n",
       "\t<tr><td>-140</td><td>52</td><td>0</td><td>2017-01-15T00:00:00Z</td><td>0.1538076</td></tr>\n",
       "\t<tr><td>-138</td><td>52</td><td>0</td><td>2017-01-15T00:00:00Z</td><td>0.1613760</td></tr>\n",
       "\t<tr><td>-136</td><td>52</td><td>0</td><td>2017-01-15T00:00:00Z</td><td>0.1883817</td></tr>\n",
       "\t<tr><td>-134</td><td>52</td><td>0</td><td>2017-01-15T00:00:00Z</td><td>0.2515111</td></tr>\n",
       "\t<tr><td>-132</td><td>52</td><td>0</td><td>2017-01-15T00:00:00Z</td><td>0.3357005</td></tr>\n",
       "\t<tr><td>-130</td><td>52</td><td>0</td><td>2017-01-15T00:00:00Z</td><td>0.3924646</td></tr>\n",
       "\t<tr><td>-128</td><td>52</td><td>0</td><td>2017-01-15T00:00:00Z</td><td>0.4165292</td></tr>\n",
       "\t<tr><td>-126</td><td>52</td><td>0</td><td>2017-01-15T00:00:00Z</td><td>      NaN</td></tr>\n",
       "\t<tr><td>-124</td><td>52</td><td>0</td><td>2017-01-15T00:00:00Z</td><td>      NaN</td></tr>\n",
       "\t<tr><td>-122</td><td>52</td><td>0</td><td>2017-01-15T00:00:00Z</td><td>      NaN</td></tr>\n",
       "\t<tr><td>-120</td><td>52</td><td>0</td><td>2017-01-15T00:00:00Z</td><td>      NaN</td></tr>\n",
       "\t<tr><td>-118</td><td>52</td><td>0</td><td>2017-01-15T00:00:00Z</td><td>      NaN</td></tr>\n",
       "\t<tr><td>-116</td><td>52</td><td>0</td><td>2017-01-15T00:00:00Z</td><td>      NaN</td></tr>\n",
       "\t<tr><td>-114</td><td>52</td><td>0</td><td>2017-01-15T00:00:00Z</td><td>      NaN</td></tr>\n",
       "\t<tr><td>-112</td><td>52</td><td>0</td><td>2017-01-15T00:00:00Z</td><td>      NaN</td></tr>\n",
       "\t<tr><td>-110</td><td>52</td><td>0</td><td>2017-01-15T00:00:00Z</td><td>      NaN</td></tr>\n",
       "\t<tr><td>-108</td><td>52</td><td>0</td><td>2017-01-15T00:00:00Z</td><td>      NaN</td></tr>\n",
       "\t<tr><td>-106</td><td>52</td><td>0</td><td>2017-01-15T00:00:00Z</td><td>      NaN</td></tr>\n",
       "\t<tr><td>-104</td><td>52</td><td>0</td><td>2017-01-15T00:00:00Z</td><td>      NaN</td></tr>\n",
       "</tbody>\n",
       "</table>\n"
      ],
      "text/latex": [
       "A data.frame: 304 × 5\n",
       "\\begin{tabular}{lllll}\n",
       " longitude & latitude & depth & time & ssta\\\\\n",
       " <dbl{[}1d{]}> & <dbl{[}1d{]}> & <dbl{[}1d{]}> & <chr> & <dbl>\\\\\n",
       "\\hline\n",
       "\t -140 & 22 & 0 & 2017-01-15T00:00:00Z & 0.4975815\\\\\n",
       "\t -138 & 22 & 0 & 2017-01-15T00:00:00Z & 0.5484982\\\\\n",
       "\t -136 & 22 & 0 & 2017-01-15T00:00:00Z & 0.6286888\\\\\n",
       "\t -134 & 22 & 0 & 2017-01-15T00:00:00Z & 0.6980591\\\\\n",
       "\t -132 & 22 & 0 & 2017-01-15T00:00:00Z & 0.7338963\\\\\n",
       "\t -130 & 22 & 0 & 2017-01-15T00:00:00Z & 0.7631321\\\\\n",
       "\t -128 & 22 & 0 & 2017-01-15T00:00:00Z & 0.8205128\\\\\n",
       "\t -126 & 22 & 0 & 2017-01-15T00:00:00Z & 0.8727989\\\\\n",
       "\t -124 & 22 & 0 & 2017-01-15T00:00:00Z & 0.8595047\\\\\n",
       "\t -122 & 22 & 0 & 2017-01-15T00:00:00Z & 0.7678528\\\\\n",
       "\t -120 & 22 & 0 & 2017-01-15T00:00:00Z & 0.6379509\\\\\n",
       "\t -118 & 22 & 0 & 2017-01-15T00:00:00Z & 0.5156460\\\\\n",
       "\t -116 & 22 & 0 & 2017-01-15T00:00:00Z & 0.3866863\\\\\n",
       "\t -114 & 22 & 0 & 2017-01-15T00:00:00Z & 0.3033581\\\\\n",
       "\t -112 & 22 & 0 & 2017-01-15T00:00:00Z & 0.2495575\\\\\n",
       "\t -110 & 22 & 0 & 2017-01-15T00:00:00Z & 0.2187004\\\\\n",
       "\t -108 & 22 & 0 & 2017-01-15T00:00:00Z & 0.2276649\\\\\n",
       "\t -106 & 22 & 0 & 2017-01-15T00:00:00Z & 0.2507744\\\\\n",
       "\t -104 & 22 & 0 & 2017-01-15T00:00:00Z &       NaN\\\\\n",
       "\t -140 & 24 & 0 & 2017-01-15T00:00:00Z & 0.5302029\\\\\n",
       "\t -138 & 24 & 0 & 2017-01-15T00:00:00Z & 0.5568810\\\\\n",
       "\t -136 & 24 & 0 & 2017-01-15T00:00:00Z & 0.5974770\\\\\n",
       "\t -134 & 24 & 0 & 2017-01-15T00:00:00Z & 0.6192532\\\\\n",
       "\t -132 & 24 & 0 & 2017-01-15T00:00:00Z & 0.6023712\\\\\n",
       "\t -130 & 24 & 0 & 2017-01-15T00:00:00Z & 0.5866547\\\\\n",
       "\t -128 & 24 & 0 & 2017-01-15T00:00:00Z & 0.6152802\\\\\n",
       "\t -126 & 24 & 0 & 2017-01-15T00:00:00Z & 0.6616249\\\\\n",
       "\t -124 & 24 & 0 & 2017-01-15T00:00:00Z & 0.6624088\\\\\n",
       "\t -122 & 24 & 0 & 2017-01-15T00:00:00Z & 0.6034908\\\\\n",
       "\t -120 & 24 & 0 & 2017-01-15T00:00:00Z & 0.5108833\\\\\n",
       "\t ⋮ & ⋮ & ⋮ & ⋮ & ⋮\\\\\n",
       "\t -124 & 50 & 0 & 2017-01-15T00:00:00Z & 0.3266554\\\\\n",
       "\t -122 & 50 & 0 & 2017-01-15T00:00:00Z &       NaN\\\\\n",
       "\t -120 & 50 & 0 & 2017-01-15T00:00:00Z &       NaN\\\\\n",
       "\t -118 & 50 & 0 & 2017-01-15T00:00:00Z &       NaN\\\\\n",
       "\t -116 & 50 & 0 & 2017-01-15T00:00:00Z &       NaN\\\\\n",
       "\t -114 & 50 & 0 & 2017-01-15T00:00:00Z &       NaN\\\\\n",
       "\t -112 & 50 & 0 & 2017-01-15T00:00:00Z &       NaN\\\\\n",
       "\t -110 & 50 & 0 & 2017-01-15T00:00:00Z &       NaN\\\\\n",
       "\t -108 & 50 & 0 & 2017-01-15T00:00:00Z &       NaN\\\\\n",
       "\t -106 & 50 & 0 & 2017-01-15T00:00:00Z &       NaN\\\\\n",
       "\t -104 & 50 & 0 & 2017-01-15T00:00:00Z &       NaN\\\\\n",
       "\t -140 & 52 & 0 & 2017-01-15T00:00:00Z & 0.1538076\\\\\n",
       "\t -138 & 52 & 0 & 2017-01-15T00:00:00Z & 0.1613760\\\\\n",
       "\t -136 & 52 & 0 & 2017-01-15T00:00:00Z & 0.1883817\\\\\n",
       "\t -134 & 52 & 0 & 2017-01-15T00:00:00Z & 0.2515111\\\\\n",
       "\t -132 & 52 & 0 & 2017-01-15T00:00:00Z & 0.3357005\\\\\n",
       "\t -130 & 52 & 0 & 2017-01-15T00:00:00Z & 0.3924646\\\\\n",
       "\t -128 & 52 & 0 & 2017-01-15T00:00:00Z & 0.4165292\\\\\n",
       "\t -126 & 52 & 0 & 2017-01-15T00:00:00Z &       NaN\\\\\n",
       "\t -124 & 52 & 0 & 2017-01-15T00:00:00Z &       NaN\\\\\n",
       "\t -122 & 52 & 0 & 2017-01-15T00:00:00Z &       NaN\\\\\n",
       "\t -120 & 52 & 0 & 2017-01-15T00:00:00Z &       NaN\\\\\n",
       "\t -118 & 52 & 0 & 2017-01-15T00:00:00Z &       NaN\\\\\n",
       "\t -116 & 52 & 0 & 2017-01-15T00:00:00Z &       NaN\\\\\n",
       "\t -114 & 52 & 0 & 2017-01-15T00:00:00Z &       NaN\\\\\n",
       "\t -112 & 52 & 0 & 2017-01-15T00:00:00Z &       NaN\\\\\n",
       "\t -110 & 52 & 0 & 2017-01-15T00:00:00Z &       NaN\\\\\n",
       "\t -108 & 52 & 0 & 2017-01-15T00:00:00Z &       NaN\\\\\n",
       "\t -106 & 52 & 0 & 2017-01-15T00:00:00Z &       NaN\\\\\n",
       "\t -104 & 52 & 0 & 2017-01-15T00:00:00Z &       NaN\\\\\n",
       "\\end{tabular}\n"
      ],
      "text/markdown": [
       "\n",
       "A data.frame: 304 × 5\n",
       "\n",
       "| longitude &lt;dbl[1d]&gt; | latitude &lt;dbl[1d]&gt; | depth &lt;dbl[1d]&gt; | time &lt;chr&gt; | ssta &lt;dbl&gt; |\n",
       "|---|---|---|---|---|\n",
       "| -140 | 22 | 0 | 2017-01-15T00:00:00Z | 0.4975815 |\n",
       "| -138 | 22 | 0 | 2017-01-15T00:00:00Z | 0.5484982 |\n",
       "| -136 | 22 | 0 | 2017-01-15T00:00:00Z | 0.6286888 |\n",
       "| -134 | 22 | 0 | 2017-01-15T00:00:00Z | 0.6980591 |\n",
       "| -132 | 22 | 0 | 2017-01-15T00:00:00Z | 0.7338963 |\n",
       "| -130 | 22 | 0 | 2017-01-15T00:00:00Z | 0.7631321 |\n",
       "| -128 | 22 | 0 | 2017-01-15T00:00:00Z | 0.8205128 |\n",
       "| -126 | 22 | 0 | 2017-01-15T00:00:00Z | 0.8727989 |\n",
       "| -124 | 22 | 0 | 2017-01-15T00:00:00Z | 0.8595047 |\n",
       "| -122 | 22 | 0 | 2017-01-15T00:00:00Z | 0.7678528 |\n",
       "| -120 | 22 | 0 | 2017-01-15T00:00:00Z | 0.6379509 |\n",
       "| -118 | 22 | 0 | 2017-01-15T00:00:00Z | 0.5156460 |\n",
       "| -116 | 22 | 0 | 2017-01-15T00:00:00Z | 0.3866863 |\n",
       "| -114 | 22 | 0 | 2017-01-15T00:00:00Z | 0.3033581 |\n",
       "| -112 | 22 | 0 | 2017-01-15T00:00:00Z | 0.2495575 |\n",
       "| -110 | 22 | 0 | 2017-01-15T00:00:00Z | 0.2187004 |\n",
       "| -108 | 22 | 0 | 2017-01-15T00:00:00Z | 0.2276649 |\n",
       "| -106 | 22 | 0 | 2017-01-15T00:00:00Z | 0.2507744 |\n",
       "| -104 | 22 | 0 | 2017-01-15T00:00:00Z |       NaN |\n",
       "| -140 | 24 | 0 | 2017-01-15T00:00:00Z | 0.5302029 |\n",
       "| -138 | 24 | 0 | 2017-01-15T00:00:00Z | 0.5568810 |\n",
       "| -136 | 24 | 0 | 2017-01-15T00:00:00Z | 0.5974770 |\n",
       "| -134 | 24 | 0 | 2017-01-15T00:00:00Z | 0.6192532 |\n",
       "| -132 | 24 | 0 | 2017-01-15T00:00:00Z | 0.6023712 |\n",
       "| -130 | 24 | 0 | 2017-01-15T00:00:00Z | 0.5866547 |\n",
       "| -128 | 24 | 0 | 2017-01-15T00:00:00Z | 0.6152802 |\n",
       "| -126 | 24 | 0 | 2017-01-15T00:00:00Z | 0.6616249 |\n",
       "| -124 | 24 | 0 | 2017-01-15T00:00:00Z | 0.6624088 |\n",
       "| -122 | 24 | 0 | 2017-01-15T00:00:00Z | 0.6034908 |\n",
       "| -120 | 24 | 0 | 2017-01-15T00:00:00Z | 0.5108833 |\n",
       "| ⋮ | ⋮ | ⋮ | ⋮ | ⋮ |\n",
       "| -124 | 50 | 0 | 2017-01-15T00:00:00Z | 0.3266554 |\n",
       "| -122 | 50 | 0 | 2017-01-15T00:00:00Z |       NaN |\n",
       "| -120 | 50 | 0 | 2017-01-15T00:00:00Z |       NaN |\n",
       "| -118 | 50 | 0 | 2017-01-15T00:00:00Z |       NaN |\n",
       "| -116 | 50 | 0 | 2017-01-15T00:00:00Z |       NaN |\n",
       "| -114 | 50 | 0 | 2017-01-15T00:00:00Z |       NaN |\n",
       "| -112 | 50 | 0 | 2017-01-15T00:00:00Z |       NaN |\n",
       "| -110 | 50 | 0 | 2017-01-15T00:00:00Z |       NaN |\n",
       "| -108 | 50 | 0 | 2017-01-15T00:00:00Z |       NaN |\n",
       "| -106 | 50 | 0 | 2017-01-15T00:00:00Z |       NaN |\n",
       "| -104 | 50 | 0 | 2017-01-15T00:00:00Z |       NaN |\n",
       "| -140 | 52 | 0 | 2017-01-15T00:00:00Z | 0.1538076 |\n",
       "| -138 | 52 | 0 | 2017-01-15T00:00:00Z | 0.1613760 |\n",
       "| -136 | 52 | 0 | 2017-01-15T00:00:00Z | 0.1883817 |\n",
       "| -134 | 52 | 0 | 2017-01-15T00:00:00Z | 0.2515111 |\n",
       "| -132 | 52 | 0 | 2017-01-15T00:00:00Z | 0.3357005 |\n",
       "| -130 | 52 | 0 | 2017-01-15T00:00:00Z | 0.3924646 |\n",
       "| -128 | 52 | 0 | 2017-01-15T00:00:00Z | 0.4165292 |\n",
       "| -126 | 52 | 0 | 2017-01-15T00:00:00Z |       NaN |\n",
       "| -124 | 52 | 0 | 2017-01-15T00:00:00Z |       NaN |\n",
       "| -122 | 52 | 0 | 2017-01-15T00:00:00Z |       NaN |\n",
       "| -120 | 52 | 0 | 2017-01-15T00:00:00Z |       NaN |\n",
       "| -118 | 52 | 0 | 2017-01-15T00:00:00Z |       NaN |\n",
       "| -116 | 52 | 0 | 2017-01-15T00:00:00Z |       NaN |\n",
       "| -114 | 52 | 0 | 2017-01-15T00:00:00Z |       NaN |\n",
       "| -112 | 52 | 0 | 2017-01-15T00:00:00Z |       NaN |\n",
       "| -110 | 52 | 0 | 2017-01-15T00:00:00Z |       NaN |\n",
       "| -108 | 52 | 0 | 2017-01-15T00:00:00Z |       NaN |\n",
       "| -106 | 52 | 0 | 2017-01-15T00:00:00Z |       NaN |\n",
       "| -104 | 52 | 0 | 2017-01-15T00:00:00Z |       NaN |\n",
       "\n"
      ],
      "text/plain": [
       "    longitude latitude depth time                 ssta     \n",
       "1   -140      22       0     2017-01-15T00:00:00Z 0.4975815\n",
       "2   -138      22       0     2017-01-15T00:00:00Z 0.5484982\n",
       "3   -136      22       0     2017-01-15T00:00:00Z 0.6286888\n",
       "4   -134      22       0     2017-01-15T00:00:00Z 0.6980591\n",
       "5   -132      22       0     2017-01-15T00:00:00Z 0.7338963\n",
       "6   -130      22       0     2017-01-15T00:00:00Z 0.7631321\n",
       "7   -128      22       0     2017-01-15T00:00:00Z 0.8205128\n",
       "8   -126      22       0     2017-01-15T00:00:00Z 0.8727989\n",
       "9   -124      22       0     2017-01-15T00:00:00Z 0.8595047\n",
       "10  -122      22       0     2017-01-15T00:00:00Z 0.7678528\n",
       "11  -120      22       0     2017-01-15T00:00:00Z 0.6379509\n",
       "12  -118      22       0     2017-01-15T00:00:00Z 0.5156460\n",
       "13  -116      22       0     2017-01-15T00:00:00Z 0.3866863\n",
       "14  -114      22       0     2017-01-15T00:00:00Z 0.3033581\n",
       "15  -112      22       0     2017-01-15T00:00:00Z 0.2495575\n",
       "16  -110      22       0     2017-01-15T00:00:00Z 0.2187004\n",
       "17  -108      22       0     2017-01-15T00:00:00Z 0.2276649\n",
       "18  -106      22       0     2017-01-15T00:00:00Z 0.2507744\n",
       "19  -104      22       0     2017-01-15T00:00:00Z       NaN\n",
       "20  -140      24       0     2017-01-15T00:00:00Z 0.5302029\n",
       "21  -138      24       0     2017-01-15T00:00:00Z 0.5568810\n",
       "22  -136      24       0     2017-01-15T00:00:00Z 0.5974770\n",
       "23  -134      24       0     2017-01-15T00:00:00Z 0.6192532\n",
       "24  -132      24       0     2017-01-15T00:00:00Z 0.6023712\n",
       "25  -130      24       0     2017-01-15T00:00:00Z 0.5866547\n",
       "26  -128      24       0     2017-01-15T00:00:00Z 0.6152802\n",
       "27  -126      24       0     2017-01-15T00:00:00Z 0.6616249\n",
       "28  -124      24       0     2017-01-15T00:00:00Z 0.6624088\n",
       "29  -122      24       0     2017-01-15T00:00:00Z 0.6034908\n",
       "30  -120      24       0     2017-01-15T00:00:00Z 0.5108833\n",
       "⋮   ⋮         ⋮        ⋮     ⋮                    ⋮        \n",
       "275 -124      50       0     2017-01-15T00:00:00Z 0.3266554\n",
       "276 -122      50       0     2017-01-15T00:00:00Z       NaN\n",
       "277 -120      50       0     2017-01-15T00:00:00Z       NaN\n",
       "278 -118      50       0     2017-01-15T00:00:00Z       NaN\n",
       "279 -116      50       0     2017-01-15T00:00:00Z       NaN\n",
       "280 -114      50       0     2017-01-15T00:00:00Z       NaN\n",
       "281 -112      50       0     2017-01-15T00:00:00Z       NaN\n",
       "282 -110      50       0     2017-01-15T00:00:00Z       NaN\n",
       "283 -108      50       0     2017-01-15T00:00:00Z       NaN\n",
       "284 -106      50       0     2017-01-15T00:00:00Z       NaN\n",
       "285 -104      50       0     2017-01-15T00:00:00Z       NaN\n",
       "286 -140      52       0     2017-01-15T00:00:00Z 0.1538076\n",
       "287 -138      52       0     2017-01-15T00:00:00Z 0.1613760\n",
       "288 -136      52       0     2017-01-15T00:00:00Z 0.1883817\n",
       "289 -134      52       0     2017-01-15T00:00:00Z 0.2515111\n",
       "290 -132      52       0     2017-01-15T00:00:00Z 0.3357005\n",
       "291 -130      52       0     2017-01-15T00:00:00Z 0.3924646\n",
       "292 -128      52       0     2017-01-15T00:00:00Z 0.4165292\n",
       "293 -126      52       0     2017-01-15T00:00:00Z       NaN\n",
       "294 -124      52       0     2017-01-15T00:00:00Z       NaN\n",
       "295 -122      52       0     2017-01-15T00:00:00Z       NaN\n",
       "296 -120      52       0     2017-01-15T00:00:00Z       NaN\n",
       "297 -118      52       0     2017-01-15T00:00:00Z       NaN\n",
       "298 -116      52       0     2017-01-15T00:00:00Z       NaN\n",
       "299 -114      52       0     2017-01-15T00:00:00Z       NaN\n",
       "300 -112      52       0     2017-01-15T00:00:00Z       NaN\n",
       "301 -110      52       0     2017-01-15T00:00:00Z       NaN\n",
       "302 -108      52       0     2017-01-15T00:00:00Z       NaN\n",
       "303 -106      52       0     2017-01-15T00:00:00Z       NaN\n",
       "304 -104      52       0     2017-01-15T00:00:00Z       NaN"
      ]
     },
     "metadata": {},
     "output_type": "display_data"
    }
   ],
   "source": [
    "erSST$data"
   ]
  },
  {
   "cell_type": "markdown",
   "id": "2ed95829-0334-4bab-8ab3-5ad01dd220fc",
   "metadata": {},
   "source": [
    "## Getting all dataset information in a ERDDAP server\n",
    "\n",
    "The following steps show the way of listing out all dataset that is available in a ERDDAP using the tabledap function. "
   ]
  },
  {
   "cell_type": "code",
   "execution_count": 14,
   "id": "f3d4510f-6254-40d7-980d-62c77baa85f1",
   "metadata": {
    "tags": [],
    "vscode": {
     "languageId": "r"
    }
   },
   "outputs": [],
   "source": [
    "urlBase <- \"https://gliders.ioos.us/erddap/\"\n",
    "dataInfo <- rerddap::info(\"allDatasets\", url = urlBase)"
   ]
  },
  {
   "cell_type": "code",
   "execution_count": 15,
   "id": "5738b470-4f87-44a2-99d5-52b6f07c141e",
   "metadata": {
    "tags": [],
    "vscode": {
     "languageId": "r"
    }
   },
   "outputs": [
    {
     "name": "stderr",
     "output_type": "stream",
     "text": [
      "info() output passed to x; setting base url to: https://gliders.ioos.us/erddap\n",
      "\n"
     ]
    }
   ],
   "source": [
    "allGlider <- tabledap(dataInfo)"
   ]
  },
  {
   "cell_type": "code",
   "execution_count": 16,
   "id": "1c4a4551-5553-49b2-a7cf-91a43ba8af21",
   "metadata": {
    "tags": [],
    "vscode": {
     "languageId": "r"
    }
   },
   "outputs": [
    {
     "data": {
      "text/html": [
       "<table class=\"dataframe\">\n",
       "<caption>A tabledap: 10 × 3</caption>\n",
       "<thead>\n",
       "\t<tr><th></th><th scope=col>datasetID</th><th scope=col>accessible</th><th scope=col>institution</th></tr>\n",
       "\t<tr><th></th><th scope=col>&lt;chr&gt;</th><th scope=col>&lt;chr&gt;</th><th scope=col>&lt;chr&gt;</th></tr>\n",
       "</thead>\n",
       "<tbody>\n",
       "\t<tr><th scope=row>2</th><td>allDatasets                 </td><td>public</td><td>IOOS Glider DAC                                      </td></tr>\n",
       "\t<tr><th scope=row>3</th><td><span style=white-space:pre-wrap>amelia-20180501T0000        </span></td><td>public</td><td>Virginia Institute of Marine Science - William &amp; Mary</td></tr>\n",
       "\t<tr><th scope=row>4</th><td><span style=white-space:pre-wrap>amelia-20200825T1929        </span></td><td>public</td><td>Virginia Institute of Marine Science - William &amp; Mary</td></tr>\n",
       "\t<tr><th scope=row>5</th><td><span style=white-space:pre-wrap>amelia-20201015T1436        </span></td><td>public</td><td>Virginia Institute of Marine Science - William &amp; Mary</td></tr>\n",
       "\t<tr><th scope=row>6</th><td>amlr01-20181216T0641-delayed</td><td>public</td><td>NOAA SWFSC Antarctic Ecosystem Research Division     </td></tr>\n",
       "\t<tr><th scope=row>7</th><td>amlr01-20191206T0452-delayed</td><td>public</td><td>NOAA SWFSC Antarctic Ecosystem Research Division     </td></tr>\n",
       "\t<tr><th scope=row>8</th><td>amlr02-20181211T1233-delayed</td><td>public</td><td>NOAA SWFSC Antarctic Ecosystem Research Division     </td></tr>\n",
       "\t<tr><th scope=row>9</th><td>amlr02-20191206T1236-delayed</td><td>public</td><td>NOAA SWFSC Antarctic Ecosystem Research Division     </td></tr>\n",
       "\t<tr><th scope=row>10</th><td>amlr03-20191206T0529-delayed</td><td>public</td><td>NOAA SWFSC Antarctic Ecosystem Research Division     </td></tr>\n",
       "\t<tr><th scope=row>11</th><td>angus-20190522T0000         </td><td>public</td><td>Skidaway Institute of Oceanography                   </td></tr>\n",
       "</tbody>\n",
       "</table>\n"
      ],
      "text/latex": [
       "A tabledap: 10 × 3\n",
       "\\begin{tabular}{r|lll}\n",
       "  & datasetID & accessible & institution\\\\\n",
       "  & <chr> & <chr> & <chr>\\\\\n",
       "\\hline\n",
       "\t2 & allDatasets                  & public & IOOS Glider DAC                                      \\\\\n",
       "\t3 & amelia-20180501T0000         & public & Virginia Institute of Marine Science - William \\& Mary\\\\\n",
       "\t4 & amelia-20200825T1929         & public & Virginia Institute of Marine Science - William \\& Mary\\\\\n",
       "\t5 & amelia-20201015T1436         & public & Virginia Institute of Marine Science - William \\& Mary\\\\\n",
       "\t6 & amlr01-20181216T0641-delayed & public & NOAA SWFSC Antarctic Ecosystem Research Division     \\\\\n",
       "\t7 & amlr01-20191206T0452-delayed & public & NOAA SWFSC Antarctic Ecosystem Research Division     \\\\\n",
       "\t8 & amlr02-20181211T1233-delayed & public & NOAA SWFSC Antarctic Ecosystem Research Division     \\\\\n",
       "\t9 & amlr02-20191206T1236-delayed & public & NOAA SWFSC Antarctic Ecosystem Research Division     \\\\\n",
       "\t10 & amlr03-20191206T0529-delayed & public & NOAA SWFSC Antarctic Ecosystem Research Division     \\\\\n",
       "\t11 & angus-20190522T0000          & public & Skidaway Institute of Oceanography                   \\\\\n",
       "\\end{tabular}\n"
      ],
      "text/markdown": [
       "\n",
       "A tabledap: 10 × 3\n",
       "\n",
       "| <!--/--> | datasetID &lt;chr&gt; | accessible &lt;chr&gt; | institution &lt;chr&gt; |\n",
       "|---|---|---|---|\n",
       "| 2 | allDatasets                  | public | IOOS Glider DAC                                       |\n",
       "| 3 | amelia-20180501T0000         | public | Virginia Institute of Marine Science - William &amp; Mary |\n",
       "| 4 | amelia-20200825T1929         | public | Virginia Institute of Marine Science - William &amp; Mary |\n",
       "| 5 | amelia-20201015T1436         | public | Virginia Institute of Marine Science - William &amp; Mary |\n",
       "| 6 | amlr01-20181216T0641-delayed | public | NOAA SWFSC Antarctic Ecosystem Research Division      |\n",
       "| 7 | amlr01-20191206T0452-delayed | public | NOAA SWFSC Antarctic Ecosystem Research Division      |\n",
       "| 8 | amlr02-20181211T1233-delayed | public | NOAA SWFSC Antarctic Ecosystem Research Division      |\n",
       "| 9 | amlr02-20191206T1236-delayed | public | NOAA SWFSC Antarctic Ecosystem Research Division      |\n",
       "| 10 | amlr03-20191206T0529-delayed | public | NOAA SWFSC Antarctic Ecosystem Research Division      |\n",
       "| 11 | angus-20190522T0000          | public | Skidaway Institute of Oceanography                    |\n",
       "\n"
      ],
      "text/plain": [
       "   datasetID                    accessible\n",
       "2  allDatasets                  public    \n",
       "3  amelia-20180501T0000         public    \n",
       "4  amelia-20200825T1929         public    \n",
       "5  amelia-20201015T1436         public    \n",
       "6  amlr01-20181216T0641-delayed public    \n",
       "7  amlr01-20191206T0452-delayed public    \n",
       "8  amlr02-20181211T1233-delayed public    \n",
       "9  amlr02-20191206T1236-delayed public    \n",
       "10 amlr03-20191206T0529-delayed public    \n",
       "11 angus-20190522T0000          public    \n",
       "   institution                                          \n",
       "2  IOOS Glider DAC                                      \n",
       "3  Virginia Institute of Marine Science - William & Mary\n",
       "4  Virginia Institute of Marine Science - William & Mary\n",
       "5  Virginia Institute of Marine Science - William & Mary\n",
       "6  NOAA SWFSC Antarctic Ecosystem Research Division     \n",
       "7  NOAA SWFSC Antarctic Ecosystem Research Division     \n",
       "8  NOAA SWFSC Antarctic Ecosystem Research Division     \n",
       "9  NOAA SWFSC Antarctic Ecosystem Research Division     \n",
       "10 NOAA SWFSC Antarctic Ecosystem Research Division     \n",
       "11 Skidaway Institute of Oceanography                   "
      ]
     },
     "metadata": {},
     "output_type": "display_data"
    }
   ],
   "source": [
    "allGlider[0:10,0:3]"
   ]
  },
  {
   "cell_type": "code",
   "execution_count": null,
   "id": "58627616-7088-4522-84c7-819032faba33",
   "metadata": {
    "vscode": {
     "languageId": "r"
    }
   },
   "outputs": [],
   "source": []
  }
 ],
 "metadata": {
  "kernelspec": {
   "display_name": "R",
   "language": "R",
   "name": "ir"
  },
  "language_info": {
   "codemirror_mode": "r",
   "file_extension": ".r",
   "mimetype": "text/x-r-source",
   "name": "R",
   "pygments_lexer": "r",
   "version": "4.2.3"
  }
 },
 "nbformat": 4,
 "nbformat_minor": 5
}
